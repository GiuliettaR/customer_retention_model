{
 "cells": [
  {
   "cell_type": "code",
   "execution_count": 1,
   "metadata": {},
   "outputs": [],
   "source": [
    "import pandas as pd\n",
    "import numpy as np"
   ]
  },
  {
   "cell_type": "code",
   "execution_count": 2,
   "metadata": {},
   "outputs": [],
   "source": [
    "from pandas.tools.plotting import scatter_matrix\n",
    "\n",
    "%matplotlib inline\n",
    "import matplotlib.pyplot as plt\n",
    "plt.style.use('ggplot')\n",
    "from sklearn.linear_model import LogisticRegression#, LinearRegression"
   ]
  },
  {
   "cell_type": "code",
   "execution_count": 3,
   "metadata": {},
   "outputs": [],
   "source": [
    "accounts = pd.read_csv('data/MFG-accounts.csv')"
   ]
  },
  {
   "cell_type": "code",
   "execution_count": 4,
   "metadata": {},
   "outputs": [],
   "source": [
    "customers = pd.read_csv('data/MFG-customers.csv')"
   ]
  },
  {
   "cell_type": "code",
   "execution_count": 5,
   "metadata": {},
   "outputs": [],
   "source": [
    "invoices = pd.read_csv('data/MFG-invoices.csv')"
   ]
  },
  {
   "cell_type": "code",
   "execution_count": 6,
   "metadata": {},
   "outputs": [],
   "source": [
    "industry = pd.read_csv('data/MFG-industry.csv')"
   ]
  },
  {
   "cell_type": "code",
   "execution_count": 7,
   "metadata": {},
   "outputs": [],
   "source": [
    "press_release = pd.read_csv('data/Press_Release.csv')"
   ]
  },
  {
   "cell_type": "code",
   "execution_count": 8,
   "metadata": {},
   "outputs": [],
   "source": [
    "zip_codes = pd.read_csv('data/zip_code_database.csv')"
   ]
  },
  {
   "cell_type": "code",
   "execution_count": 9,
   "metadata": {},
   "outputs": [],
   "source": [
    "zip_codes = zip_codes[['zip','state']]"
   ]
  },
  {
   "cell_type": "markdown",
   "metadata": {},
   "source": [
    "### Accounts"
   ]
  },
  {
   "cell_type": "code",
   "execution_count": 10,
   "metadata": {},
   "outputs": [],
   "source": [
    "label_df = pd.DataFrame(accounts['Account_Description'].unique())\n",
    "label_df.columns = ['Account_Description']"
   ]
  },
  {
   "cell_type": "code",
   "execution_count": 11,
   "metadata": {},
   "outputs": [],
   "source": [
    "label_list = [\n",
    "    'scanning',\n",
    "    'fdm',\n",
    "    'carbon',\n",
    "    'conlas',\n",
    "    'manufacturing',\n",
    "    'amermakes',\n",
    "    'rent_inc_mfg',\n",
    "    'sla',\n",
    "    'molding',\n",
    "    'casting',\n",
    "    'sls',\n",
    "    'polyjet',\n",
    "    'metal',\n",
    "    'freight',\n",
    "    'cgb',\n",
    "    'cgb',\n",
    "    'misc',\n",
    "    'asset'\n",
    "]"
   ]
  },
  {
   "cell_type": "code",
   "execution_count": 12,
   "metadata": {},
   "outputs": [],
   "source": [
    "# typedf.merge(pd.DataFrame(label_list),left_index = True, right_index = True, how = 'left')\n",
    "label_df['label'] = label_list"
   ]
  },
  {
   "cell_type": "code",
   "execution_count": 13,
   "metadata": {},
   "outputs": [],
   "source": [
    "accounts_labels = accounts.merge(label_df, left_on = 'Account_Description', right_on = 'Account_Description', how = 'left')"
   ]
  },
  {
   "cell_type": "code",
   "execution_count": 14,
   "metadata": {},
   "outputs": [],
   "source": [
    "accounts_dummies = pd.get_dummies(accounts_labels, columns=['label'])\n"
   ]
  },
  {
   "cell_type": "code",
   "execution_count": null,
   "metadata": {},
   "outputs": [],
   "source": []
  },
  {
   "cell_type": "markdown",
   "metadata": {},
   "source": [
    "### Customers"
   ]
  },
  {
   "cell_type": "code",
   "execution_count": 15,
   "metadata": {},
   "outputs": [],
   "source": [
    "customers['Country'] = customers['Country'].replace(['UNITED STATES', 'United States'], ['USA', 'USA',])\n",
    "customers['Country'] = customers['Country'].fillna('USA')\n",
    "customers['CustID'] = customers['CustomerID']\n",
    "customers['State'] = customers['State'].replace('az', 'AZ')\n",
    "customers['State'] = customers['State'].replace('Te','TX')\n",
    "customers['State'] = customers['State'].fillna('FO') #FO = not US state, foreign "
   ]
  },
  {
   "cell_type": "code",
   "execution_count": 16,
   "metadata": {},
   "outputs": [],
   "source": [
    "def strip_zip(longZip):\n",
    "    value = str(longZip).split('-')[0]\n",
    "    return value"
   ]
  },
  {
   "cell_type": "code",
   "execution_count": 17,
   "metadata": {},
   "outputs": [],
   "source": [
    "#customers['Zip'] = customers['Zip'].str.replace('-','')#.astype(int)\n",
    "#customers['Zip'].unique()"
   ]
  },
  {
   "cell_type": "code",
   "execution_count": 18,
   "metadata": {},
   "outputs": [],
   "source": [
    "customers['zipcode'] = customers['Zip'].apply(strip_zip)"
   ]
  },
  {
   "cell_type": "code",
   "execution_count": 19,
   "metadata": {},
   "outputs": [],
   "source": [
    "customer_location = customers[['CustID', 'State','zipcode','Country']]"
   ]
  },
  {
   "cell_type": "code",
   "execution_count": 46,
   "metadata": {},
   "outputs": [],
   "source": [
    "pd.options.display.max_rows = 999"
   ]
  },
  {
   "cell_type": "code",
   "execution_count": 21,
   "metadata": {},
   "outputs": [],
   "source": [
    "customer_state_dummies = pd.get_dummies(customer_location, columns=['State'])"
   ]
  },
  {
   "cell_type": "code",
   "execution_count": 63,
   "metadata": {},
   "outputs": [],
   "source": [
    "customer_region_dummies = pd.get_dummies(customer_state_dummies, columns=['Country'])"
   ]
  },
  {
   "cell_type": "code",
   "execution_count": null,
   "metadata": {},
   "outputs": [],
   "source": []
  },
  {
   "cell_type": "markdown",
   "metadata": {},
   "source": [
    "### Invoices"
   ]
  },
  {
   "cell_type": "code",
   "execution_count": 23,
   "metadata": {},
   "outputs": [],
   "source": [
    "invoices['datetime'] = pd.to_datetime(invoices['Date'])"
   ]
  },
  {
   "cell_type": "code",
   "execution_count": 24,
   "metadata": {},
   "outputs": [],
   "source": [
    "invoices['dayofweek'] = invoices['datetime'].dt.dayofweek"
   ]
  },
  {
   "cell_type": "code",
   "execution_count": 25,
   "metadata": {},
   "outputs": [],
   "source": [
    "invoices ['Amount'] = (invoices['Amount'].str.replace(',', '').astype(float)).abs()\n",
    "\n",
    "invoices['Qty'] = invoices['Qty'].str.replace(',','').astype(float)\n",
    "invoices['Qty'] = invoices['Qty'].fillna(0)\n",
    "\n",
    "invoices['Account_ID'] = invoices['Account_ID'].str.replace('-','').astype(int)\n",
    "#invoices['Item_ID'] = invoices['Item_ID'].str.replace('-','')\n",
    "\n",
    "invoices ['Unit_Price'] = invoices['Unit_Price'].str.replace(',','').astype(float)\n",
    "invoices ['Unit_Price'] = invoices['Unit_Price'].fillna(0)\n"
   ]
  },
  {
   "cell_type": "code",
   "execution_count": 26,
   "metadata": {},
   "outputs": [],
   "source": [
    "repeat=[]\n",
    "for invoice in invoices.iterrows():\n",
    "    repeat.append(((invoice[1]['CustID'] == invoices['CustID']) &\n",
    "    (invoice[1]['datetime'] < invoices['datetime']) &\n",
    "    (invoice[1]['datetime']  + pd.Timedelta(365, 'd') > invoices['datetime'])).sum()> 0)  "
   ]
  },
  {
   "cell_type": "code",
   "execution_count": 27,
   "metadata": {},
   "outputs": [],
   "source": [
    "invoices['repeat'] = repeat"
   ]
  },
  {
   "cell_type": "code",
   "execution_count": 28,
   "metadata": {},
   "outputs": [],
   "source": [
    "def year(col):\n",
    "    value = int(str(col)[0:4])\n",
    "    return value\n",
    "    \n",
    "def month(col):\n",
    "    value = int(str(col)[8:11])\n",
    "    return value"
   ]
  },
  {
   "cell_type": "code",
   "execution_count": 29,
   "metadata": {},
   "outputs": [],
   "source": [
    "invoices['year'] = invoices['datetime'].apply(year)\n",
    "invoices['month'] = invoices['datetime'].apply(month)"
   ]
  },
  {
   "cell_type": "code",
   "execution_count": 30,
   "metadata": {},
   "outputs": [],
   "source": [
    "def quarters(months):\n",
    "    \n",
    "    quarters=[]\n",
    "    for month in months:\n",
    "        if month>= 1 and month<=3:\n",
    "            quarters.append(1)\n",
    "        elif month >= 4 and month <= 6:\n",
    "            quarters.append(2)\n",
    "        elif month >= 7 and month<=9:\n",
    "            quarters.append(3)\n",
    "        elif month >= 10 and month >= 12:\n",
    "            quarters.append(4)\n",
    "        else:\n",
    "            quarters.append(0)\n",
    "    return quarters\n"
   ]
  },
  {
   "cell_type": "code",
   "execution_count": 31,
   "metadata": {},
   "outputs": [],
   "source": [
    "invoices['quarter']= quarters(invoices['month'])"
   ]
  },
  {
   "cell_type": "code",
   "execution_count": 32,
   "metadata": {},
   "outputs": [],
   "source": [
    "#invoices.loc[:20,['month','quarter']]"
   ]
  },
  {
   "cell_type": "code",
   "execution_count": 33,
   "metadata": {},
   "outputs": [],
   "source": [
    "invoices['Item_ID'] = invoices['Item_ID'].fillna('other')"
   ]
  },
  {
   "cell_type": "code",
   "execution_count": 34,
   "metadata": {},
   "outputs": [],
   "source": [
    "invoices['repeat_c']= invoices['repeat'].replace('True','1').astype(int)\n",
    "invoices['repeat_c']= invoices['repeat'].replace('False','0').astype(int)"
   ]
  },
  {
   "cell_type": "code",
   "execution_count": null,
   "metadata": {},
   "outputs": [],
   "source": []
  },
  {
   "cell_type": "code",
   "execution_count": null,
   "metadata": {},
   "outputs": [],
   "source": []
  },
  {
   "cell_type": "code",
   "execution_count": null,
   "metadata": {},
   "outputs": [],
   "source": []
  },
  {
   "cell_type": "code",
   "execution_count": null,
   "metadata": {},
   "outputs": [],
   "source": [
    "invoices.group_by('CustID').aggregate({'datetime'\n",
    "                                      pri\n",
    "                                      \n",
    "                                      \n",
    "                                      })"
   ]
  },
  {
   "cell_type": "code",
   "execution_count": null,
   "metadata": {},
   "outputs": [],
   "source": []
  },
  {
   "cell_type": "code",
   "execution_count": null,
   "metadata": {},
   "outputs": [],
   "source": []
  },
  {
   "cell_type": "code",
   "execution_count": 35,
   "metadata": {},
   "outputs": [],
   "source": [
    "invoices_items_dummies = pd.get_dummies(invoices, columns=['Item_ID'])"
   ]
  },
  {
   "cell_type": "code",
   "execution_count": 36,
   "metadata": {},
   "outputs": [],
   "source": [
    "# don't need price as a dummy.\n",
    "#invoices_items_prices_dummies = pd.get_dummies(invoices_items_dummies, columns=['unit_price'])#"
   ]
  },
  {
   "cell_type": "code",
   "execution_count": 37,
   "metadata": {},
   "outputs": [],
   "source": [
    "invoices_items_year_dummies = pd.get_dummies(invoices_items_dummies, columns=['year'])"
   ]
  },
  {
   "cell_type": "code",
   "execution_count": 38,
   "metadata": {},
   "outputs": [],
   "source": [
    "invoices_items_year_month_dummies = pd.get_dummies(invoices_items_year_dummies, columns=['month'])"
   ]
  },
  {
   "cell_type": "code",
   "execution_count": 39,
   "metadata": {},
   "outputs": [],
   "source": [
    "invoices_items_year_month_quarter_dummies = pd.get_dummies(invoices_items_year_month_dummies, columns=['quarter'])"
   ]
  },
  {
   "cell_type": "code",
   "execution_count": 40,
   "metadata": {},
   "outputs": [],
   "source": [
    "final_invoices = invoices_items_year_month_quarter_dummies\n"
   ]
  },
  {
   "cell_type": "code",
   "execution_count": null,
   "metadata": {},
   "outputs": [],
   "source": [
    "#final_invoices"
   ]
  },
  {
   "cell_type": "markdown",
   "metadata": {},
   "source": [
    "### press_release"
   ]
  },
  {
   "cell_type": "code",
   "execution_count": 41,
   "metadata": {},
   "outputs": [],
   "source": [
    "press_release['release_date'] = pd.to_datetime(press_release['Release Date'])"
   ]
  },
  {
   "cell_type": "code",
   "execution_count": 42,
   "metadata": {},
   "outputs": [],
   "source": [
    "press_release ['Premium'] = press_release['Premium'].str.replace('-', 'free')\n",
    "press_release['Premium'] = press_release['Premium'].fillna('Premium')"
   ]
  },
  {
   "cell_type": "code",
   "execution_count": 43,
   "metadata": {},
   "outputs": [],
   "source": [
    "press_release['headline_len'] = press_release['Headline'].str.len()"
   ]
  },
  {
   "cell_type": "code",
   "execution_count": null,
   "metadata": {},
   "outputs": [],
   "source": []
  },
  {
   "cell_type": "markdown",
   "metadata": {},
   "source": [
    "### Industries"
   ]
  },
  {
   "cell_type": "code",
   "execution_count": 44,
   "metadata": {},
   "outputs": [
    {
     "data": {
      "text/plain": [
       "Index(['CustID', 'Industry'], dtype='object')"
      ]
     },
     "execution_count": 44,
     "metadata": {},
     "output_type": "execute_result"
    }
   ],
   "source": [
    "industry.columns"
   ]
  },
  {
   "cell_type": "code",
   "execution_count": 47,
   "metadata": {},
   "outputs": [],
   "source": [
    "industry_dummies = pd.get_dummies(industry, columns =['Industry'])"
   ]
  },
  {
   "cell_type": "code",
   "execution_count": 49,
   "metadata": {},
   "outputs": [],
   "source": [
    "#industry_dummies.head()"
   ]
  },
  {
   "cell_type": "code",
   "execution_count": null,
   "metadata": {},
   "outputs": [],
   "source": [
    "final_invoices "
   ]
  },
  {
   "cell_type": "markdown",
   "metadata": {},
   "source": [
    "### merge invoices industry region"
   ]
  },
  {
   "cell_type": "code",
   "execution_count": 53,
   "metadata": {},
   "outputs": [],
   "source": [
    "invoices_industry_dummies = pd.merge(final_invoices, industry_dummies, how='left', on=['CustID'])"
   ]
  },
  {
   "cell_type": "code",
   "execution_count": 64,
   "metadata": {},
   "outputs": [],
   "source": [
    "invoices_industry_location_dummies = pd.merge(invoices_industry_dummies, customer_region_dummies, how='left', on=['CustID'])"
   ]
  },
  {
   "cell_type": "code",
   "execution_count": 65,
   "metadata": {},
   "outputs": [
    {
     "name": "stdout",
     "output_type": "stream",
     "text": [
      "<class 'pandas.core.frame.DataFrame'>\n",
      "Int64Index: 13349 entries, 0 to 13348\n",
      "Columns: 214 entries, Date to Country_USA\n",
      "dtypes: bool(1), datetime64[ns](1), float64(3), int64(4), object(2), uint8(203)\n",
      "memory usage: 3.7+ MB\n"
     ]
    }
   ],
   "source": [
    "invoices_industry_location_dummies.info()"
   ]
  },
  {
   "cell_type": "code",
   "execution_count": 75,
   "metadata": {},
   "outputs": [
    {
     "data": {
      "text/plain": [
       "['Date',\n",
       " 'Qty',\n",
       " 'Unit_Price',\n",
       " 'Account_ID',\n",
       " 'Amount',\n",
       " 'CustID',\n",
       " 'datetime',\n",
       " 'dayofweek',\n",
       " 'repeat',\n",
       " 'repeat_c',\n",
       " 'Item_ID_RP-1-222-0502',\n",
       " 'Item_ID_RP-1-222-0503',\n",
       " 'Item_ID_RP-1001717',\n",
       " 'Item_ID_RP-1001718',\n",
       " 'Item_ID_RP-1513836',\n",
       " 'Item_ID_RP-1859701',\n",
       " 'Item_ID_RP-19112-23',\n",
       " 'Item_ID_RP-19112-24',\n",
       " 'Item_ID_RP-19112-25',\n",
       " 'Item_ID_RP-19112-26',\n",
       " 'Item_ID_RP-19112-51',\n",
       " 'Item_ID_RP-19112-52',\n",
       " 'Item_ID_RP-19112-57',\n",
       " 'Item_ID_RP-19112-59',\n",
       " 'Item_ID_RP-19112-61',\n",
       " 'Item_ID_RP-19112-62',\n",
       " 'Item_ID_RP-2718001',\n",
       " 'Item_ID_RP-300727A',\n",
       " 'Item_ID_RP-300784A',\n",
       " 'Item_ID_RP-301550-01',\n",
       " 'Item_ID_RP-301550-02',\n",
       " 'Item_ID_RP-3DSCAN-1',\n",
       " 'Item_ID_RP-AMP-1',\n",
       " 'Item_ID_RP-C10047',\n",
       " 'Item_ID_RP-C10048',\n",
       " 'Item_ID_RP-C10049',\n",
       " 'Item_ID_RP-CONSULT-1',\n",
       " 'Item_ID_RP-CS007200 A/B',\n",
       " 'Item_ID_RP-CS007650',\n",
       " 'Item_ID_RP-DLS-1',\n",
       " 'Item_ID_RP-FDM-1',\n",
       " 'Item_ID_RP-FM002690',\n",
       " 'Item_ID_RP-FM002868',\n",
       " 'Item_ID_RP-FM002869',\n",
       " 'Item_ID_RP-INJMOLD-1',\n",
       " 'Item_ID_RP-METAL-1',\n",
       " 'Item_ID_RP-MFG-1',\n",
       " 'Item_ID_RP-MTL0010',\n",
       " 'Item_ID_RP-MTL0011',\n",
       " 'Item_ID_RP-MTL0014',\n",
       " 'Item_ID_RP-MTL0015',\n",
       " 'Item_ID_RP-OBJ-1',\n",
       " 'Item_ID_RP-PLS0025',\n",
       " 'Item_ID_RP-PLS0026',\n",
       " 'Item_ID_RP-PLS0027',\n",
       " 'Item_ID_RP-PLS0028',\n",
       " 'Item_ID_RP-PLS0029',\n",
       " 'Item_ID_RP-PLS0030',\n",
       " 'Item_ID_RP-PLS0033',\n",
       " 'Item_ID_RP-PLS0034',\n",
       " 'Item_ID_RP-PLS0035',\n",
       " 'Item_ID_RP-PLS0036',\n",
       " 'Item_ID_RP-PLS0037',\n",
       " 'Item_ID_RP-PLS0038',\n",
       " 'Item_ID_RP-PLS0039',\n",
       " 'Item_ID_RP-PLS0040',\n",
       " 'Item_ID_RP-PLS0041',\n",
       " 'Item_ID_RP-PLS0042',\n",
       " 'Item_ID_RP-PLS0043',\n",
       " 'Item_ID_RP-RTV-1',\n",
       " 'Item_ID_RP-SLA-1',\n",
       " 'Item_ID_RP-SLS-1',\n",
       " 'Item_ID_SHP-MFG',\n",
       " 'Item_ID_other',\n",
       " 'year_2015',\n",
       " 'year_2016',\n",
       " 'year_2017',\n",
       " 'year_2018',\n",
       " 'year_2019',\n",
       " 'month_1',\n",
       " 'month_2',\n",
       " 'month_3',\n",
       " 'month_4',\n",
       " 'month_5',\n",
       " 'month_6',\n",
       " 'month_7',\n",
       " 'month_8',\n",
       " 'month_9',\n",
       " 'month_10',\n",
       " 'month_11',\n",
       " 'month_12',\n",
       " 'month_13',\n",
       " 'month_14',\n",
       " 'month_15',\n",
       " 'month_16',\n",
       " 'month_17',\n",
       " 'month_18',\n",
       " 'month_19',\n",
       " 'month_20',\n",
       " 'month_21',\n",
       " 'month_22',\n",
       " 'month_23',\n",
       " 'month_24',\n",
       " 'month_25',\n",
       " 'month_26',\n",
       " 'month_27',\n",
       " 'month_28',\n",
       " 'month_29',\n",
       " 'month_30',\n",
       " 'month_31',\n",
       " 'quarter_0',\n",
       " 'quarter_1',\n",
       " 'quarter_2',\n",
       " 'quarter_3',\n",
       " 'quarter_4',\n",
       " 'Industry_3D Printing Service Provider',\n",
       " 'Industry_Additive Manufacturing',\n",
       " 'Industry_Aerospace',\n",
       " 'Industry_Agriculture Equip',\n",
       " 'Industry_Alternative Energy',\n",
       " 'Industry_Antenna',\n",
       " 'Industry_Architecture',\n",
       " 'Industry_Automotive',\n",
       " 'Industry_Batteries',\n",
       " 'Industry_Building Products',\n",
       " 'Industry_Chemicals',\n",
       " 'Industry_Clothing',\n",
       " 'Industry_Components',\n",
       " 'Industry_Construction',\n",
       " 'Industry_Consumer Product',\n",
       " 'Industry_Defence',\n",
       " 'Industry_Design',\n",
       " 'Industry_Distributor',\n",
       " 'Industry_Education',\n",
       " 'Industry_Electronics',\n",
       " 'Industry_Engineering',\n",
       " 'Industry_Firearms',\n",
       " 'Industry_Food &Beverage',\n",
       " 'Industry_Furniture',\n",
       " 'Industry_Government',\n",
       " 'Industry_HVAC',\n",
       " 'Industry_IT',\n",
       " 'Industry_Individual',\n",
       " 'Industry_Injection Molding',\n",
       " 'Industry_Internal',\n",
       " 'Industry_Lighting',\n",
       " 'Industry_Machinary',\n",
       " 'Industry_Machine Shop',\n",
       " 'Industry_Machine shop',\n",
       " 'Industry_Manufacturing',\n",
       " 'Industry_Manufacturing Equipment',\n",
       " 'Industry_Materials',\n",
       " 'Industry_Medical',\n",
       " 'Industry_Mining',\n",
       " 'Industry_Oil & Gas',\n",
       " 'Industry_Other',\n",
       " 'Industry_Packaging',\n",
       " 'Industry_Power',\n",
       " 'Industry_Printing',\n",
       " 'Industry_Robotics',\n",
       " 'Industry_Semiconductor Equipment',\n",
       " 'Industry_Sensors',\n",
       " 'Industry_Solar',\n",
       " 'Industry_Sporting Goods',\n",
       " 'Industry_Swimming Pools',\n",
       " 'Industry_Telecomunications',\n",
       " 'Industry_Testing  ',\n",
       " 'Industry_Transportation',\n",
       " 'Industry_Turbomachinary',\n",
       " 'Industry_Unknown',\n",
       " 'Industry_Utility',\n",
       " 'Industry_Water Treatment',\n",
       " 'zipcode',\n",
       " 'State_AZ',\n",
       " 'State_BC',\n",
       " 'State_CA',\n",
       " 'State_CO',\n",
       " 'State_FL',\n",
       " 'State_FO',\n",
       " 'State_GA',\n",
       " 'State_IL',\n",
       " 'State_IN',\n",
       " 'State_KS',\n",
       " 'State_LA',\n",
       " 'State_MA',\n",
       " 'State_MD',\n",
       " 'State_MI',\n",
       " 'State_MN',\n",
       " 'State_MO',\n",
       " 'State_NC',\n",
       " 'State_NE',\n",
       " 'State_NH',\n",
       " 'State_NJ',\n",
       " 'State_NM',\n",
       " 'State_NS',\n",
       " 'State_NV',\n",
       " 'State_NY',\n",
       " 'State_OH',\n",
       " 'State_ON',\n",
       " 'State_OR',\n",
       " 'State_PA',\n",
       " 'State_SC',\n",
       " 'State_TN',\n",
       " 'State_TX',\n",
       " 'State_UT',\n",
       " 'State_VA',\n",
       " 'State_WA',\n",
       " 'State_WI',\n",
       " 'Country_Canada',\n",
       " 'Country_China',\n",
       " 'Country_Costa Rica',\n",
       " 'Country_Germany',\n",
       " 'Country_Philippines',\n",
       " 'Country_USA']"
      ]
     },
     "execution_count": 75,
     "metadata": {},
     "output_type": "execute_result"
    }
   ],
   "source": [
    "list(invoices_industry_location_dummies.columns)"
   ]
  },
  {
   "cell_type": "code",
   "execution_count": null,
   "metadata": {},
   "outputs": [],
   "source": []
  },
  {
   "cell_type": "markdown",
   "metadata": {},
   "source": [
    "### extras\n"
   ]
  },
  {
   "cell_type": "code",
   "execution_count": null,
   "metadata": {},
   "outputs": [],
   "source": [
    "invoices_industry ['dummy_itemid'] = (invoices_industry['Item_ID'].replace(['RP-SLA-1', 'SHP-MFG',\n",
    "                                                        'RP-INJMOLD-1', 'RP-FDM-1', 'RP-SLS-1',\n",
    "       'RP-OBJ-1', 'RP-RTV-1', 'RP-3DSCAN-1', 'RP-MFG-1', 'RP-MTL0010',\n",
    "       'RP-MTL0011', 'RP-MTL0015', 'RP-PLS0033', 'RP-PLS0034',\n",
    "       'RP-PLS0035', 'RP-PLS0036', 'RP-PLS0037', 'RP-PLS0038',\n",
    "       'RP-PLS0039', 'RP-PLS0040', 'RP-PLS0041', 'RP-PLS0042',\n",
    "       'RP-PLS0043', 'RP-PLS0028', 'RP-PLS0029', 'RP-PLS0030',\n",
    "       'RP-FM002868', 'RP-FM002869', 'RP-MTL0014', 'RP-FM002690',\n",
    "       'RP-1513836', 'RP-1859701', 'RP-PLS0025', 'RP-PLS0026',\n",
    "       'RP-PLS0027', 'RP-19112-51', 'RP-19112-23', 'RP-19112-24',\n",
    "       'RP-19112-52', 'RP-19112-57', 'RP-19112-61', 'RP-CS007200 A/B',\n",
    "       'RP-CS007650', 'RP-19112-25', 'RP-19112-26', 'RP-19112-59',\n",
    "       'RP-19112-62', 'RP-AMP-1', 'RP-C10047', 'RP-C10048', 'RP-C10049',\n",
    "       'RP-301550-01', 'RP-301550-02', 'RP-300727A', 'RP-300784A',\n",
    "       'RP-1-222-0502', 'RP-1-222-0503', 'RP-METAL-1', 'RP-2718001',\n",
    "       'RP-DLS-1', 'RP-CONSULT-1', 'RP-1001717', 'RP-1001718'],\n",
    "        [1,2,3,4,5,6,7,8,9,10,11,12,13,14,15,16,17,18,19,20,21,22,23,24,25,26,27,28,29,30,\n",
    "        31,32,33,34,35,36,37,38,39,40,41,42,43,44,45,46,47,48,49,50,51,52,53,54,55,56,57,\n",
    "        58,59,60,61,62,63]))"
   ]
  },
  {
   "cell_type": "code",
   "execution_count": null,
   "metadata": {},
   "outputs": [],
   "source": [
    "invoices_industry ['dummy_itemid'] = invoices_industry['dummy_itemid'].fillna(90)"
   ]
  },
  {
   "cell_type": "code",
   "execution_count": null,
   "metadata": {},
   "outputs": [],
   "source": [
    "invoices_industry ['dummy_state'] = (invoices_industry['State'].replace(['CO', 'AZ',\n",
    "        'UT', 'CA', 'MA', 'OH', 'NJ', 'PA', 'FL', 'IL',\n",
    "       'TN', 'NE', 'MD', 'IN', 'WA', 'NC', 'GA', 'NM', 'MI', 'WI', 'NV',\n",
    "       'NH', 'Te', 'TX', 'KS', 'MN', 'SC', 'MO', 'NS', 'OR', 'VA', 'LA',\n",
    "       'ON', 'NY', 'BC'],[1,2,3,4,5,6,7,8,9,10,11,12,13,14,15,16,17,18,19,20,21,22,23,24,25,26,27,28,29,30,\n",
    "                                31,32,33,34,35]))"
   ]
  },
  {
   "cell_type": "code",
   "execution_count": null,
   "metadata": {},
   "outputs": [],
   "source": [
    "invoices_industry['dummy_country']= (invoices_industry['Country'].replace(['USA', 'Germany', 'Costa Rica', 'China', 'Canada', 'Philippines'],\n",
    "                                                                          [1,2,3,4,5,6]))"
   ]
  },
  {
   "cell_type": "code",
   "execution_count": null,
   "metadata": {},
   "outputs": [],
   "source": [
    "invoices_industry ['industry1'] = invoices_industry['Industry']\n",
    "invoices_industry ['industry1'] = (invoices_industry['industry1'].replace(['Individual', 'Consumer Product', 'Manufacturing Equipment',\n",
    "       'Design', 'Antenna', 'Automotive', 'Education', 'Manufacturing',\n",
    "       'Medical', 'Electronics', 'HVAC', 'Engineering', 'Machinary',\n",
    "       'Unknown', 'Telecomunications', 'Firearms', 'Swimming Pools',\n",
    "       'Defence', 'Aerospace', 'Government', 'Injection Molding',\n",
    "       'Distributor', 'Sensors', 'Testing  ', 'Lighting',\n",
    "       'Water Treatment', 'Mining', 'Internal', 'Components',\n",
    "       'Machine Shop', 'Power', 'Alternative Energy', 'Other',\n",
    "       'Construction', 'Sporting Goods', '3D Printing Service Provider',\n",
    "       'Semiconductor Equipment', 'Building Products', 'Architecture',\n",
    "       'Machine shop', 'Clothing', 'Additive Manufacturing',\n",
    "       'Agriculture Equip', 'Oil & Gas', 'Chemicals', 'Food &Beverage',\n",
    "       'Turbomachinary', 'Solar', 'Materials', 'Utility', 'Robotics',\n",
    "       'Furniture', 'Packaging', 'Batteries', 'Printing',\n",
    "       'Transportation', 'IT'], [1,2,3,4,5,6,7,8,9,10,11,12,13,14,15,16,17,18,19,20,21,22,23,24,25,26,27,28,29,30,\n",
    "                                31,32,33,34,35,36,37,38,39,40,41,42,43,44,45,46,47,48,49,50,51,52,53,54,55,56,57]))\n",
    "\n",
    "#invoices_industry ['industry1'] "
   ]
  },
  {
   "cell_type": "code",
   "execution_count": null,
   "metadata": {},
   "outputs": [],
   "source": []
  },
  {
   "cell_type": "code",
   "execution_count": null,
   "metadata": {},
   "outputs": [],
   "source": []
  },
  {
   "cell_type": "code",
   "execution_count": null,
   "metadata": {},
   "outputs": [],
   "source": []
  },
  {
   "cell_type": "markdown",
   "metadata": {},
   "source": [
    "### Logistic regretios\n"
   ]
  },
  {
   "cell_type": "code",
   "execution_count": null,
   "metadata": {},
   "outputs": [],
   "source": [
    "y = invoices_industry_location_dummies['repeat_c'] == True\n",
    "X = (invoices_industry_location_dummies[['year', 'month', 'unit_price', 'qty', 'account_id', 'amount','industry1',\n",
    "                        'dummy_country','dummy_state','dummy_itemid']])"
   ]
  },
  {
   "cell_type": "code",
   "execution_count": null,
   "metadata": {},
   "outputs": [],
   "source": [
    "model1 = LogisticRegression()"
   ]
  },
  {
   "cell_type": "code",
   "execution_count": null,
   "metadata": {},
   "outputs": [],
   "source": [
    "model1.fit(X, y)"
   ]
  },
  {
   "cell_type": "code",
   "execution_count": null,
   "metadata": {},
   "outputs": [],
   "source": [
    "model1.coef_"
   ]
  },
  {
   "cell_type": "code",
   "execution_count": null,
   "metadata": {},
   "outputs": [],
   "source": [
    "#model.predict_proba([[4, 10]])"
   ]
  },
  {
   "cell_type": "code",
   "execution_count": null,
   "metadata": {},
   "outputs": [],
   "source": []
  },
  {
   "cell_type": "code",
   "execution_count": null,
   "metadata": {},
   "outputs": [],
   "source": [
    "y = invoices_industry['repeat_c'] == True\n",
    "x = (invoices_industry[['year']])\n",
    "\n",
    "fig, ax = plt.subplots()\n",
    "ax.scatter(x, y)"
   ]
  },
  {
   "cell_type": "markdown",
   "metadata": {},
   "source": [
    "### Random Fores"
   ]
  },
  {
   "cell_type": "code",
   "execution_count": 71,
   "metadata": {},
   "outputs": [],
   "source": [
    "from sklearn.model_selection import train_test_split"
   ]
  },
  {
   "cell_type": "code",
   "execution_count": 72,
   "metadata": {},
   "outputs": [],
   "source": [
    "from sklearn.tree import DecisionTreeRegressor, DecisionTreeClassifier\n",
    "from sklearn.ensemble import RandomForestRegressor, RandomForestClassifier\n",
    "\n",
    "from sklearn.model_selection import cross_val_score, train_test_split, GridSearchCV"
   ]
  },
  {
   "cell_type": "code",
   "execution_count": 74,
   "metadata": {},
   "outputs": [
    {
     "ename": "ValueError",
     "evalue": "cannot copy sequence with size 13349 to array axis with dimension 214",
     "output_type": "error",
     "traceback": [
      "\u001b[0;31m---------------------------------------------------------------------------\u001b[0m",
      "\u001b[0;31mValueError\u001b[0m                                Traceback (most recent call last)",
      "\u001b[0;32m<ipython-input-74-496ecbe63c97>\u001b[0m in \u001b[0;36m<module>\u001b[0;34m\u001b[0m\n\u001b[1;32m      2\u001b[0m \u001b[0my\u001b[0m \u001b[0;34m=\u001b[0m \u001b[0mpd\u001b[0m\u001b[0;34m.\u001b[0m\u001b[0mSeries\u001b[0m\u001b[0;34m(\u001b[0m\u001b[0minvoices_industry_location_dummies\u001b[0m\u001b[0;34m.\u001b[0m\u001b[0mrepeat_c\u001b[0m\u001b[0;34m)\u001b[0m\u001b[0;34m\u001b[0m\u001b[0;34m\u001b[0m\u001b[0m\n\u001b[1;32m      3\u001b[0m \u001b[0;34m\u001b[0m\u001b[0m\n\u001b[0;32m----> 4\u001b[0;31m \u001b[0mX\u001b[0m \u001b[0;34m=\u001b[0m \u001b[0;34m(\u001b[0m\u001b[0minvoices_industry_location_dummies\u001b[0m \u001b[0;34m[\u001b[0m\u001b[0;34m[\u001b[0m\u001b[0minvoices_industry_location_dummies\u001b[0m\u001b[0;34m]\u001b[0m\u001b[0;34m]\u001b[0m \u001b[0;34m)\u001b[0m\u001b[0;34m\u001b[0m\u001b[0;34m\u001b[0m\u001b[0m\n\u001b[0m\u001b[1;32m      5\u001b[0m \u001b[0;34m\u001b[0m\u001b[0m\n\u001b[1;32m      6\u001b[0m X_train, X_test, y_train, y_test = train_test_split(X, y, \n",
      "\u001b[0;32m~/anaconda3/lib/python3.7/site-packages/pandas/core/frame.py\u001b[0m in \u001b[0;36m__getitem__\u001b[0;34m(self, key)\u001b[0m\n\u001b[1;32m   2680\u001b[0m         \u001b[0;32mif\u001b[0m \u001b[0misinstance\u001b[0m\u001b[0;34m(\u001b[0m\u001b[0mkey\u001b[0m\u001b[0;34m,\u001b[0m \u001b[0;34m(\u001b[0m\u001b[0mSeries\u001b[0m\u001b[0;34m,\u001b[0m \u001b[0mnp\u001b[0m\u001b[0;34m.\u001b[0m\u001b[0mndarray\u001b[0m\u001b[0;34m,\u001b[0m \u001b[0mIndex\u001b[0m\u001b[0;34m,\u001b[0m \u001b[0mlist\u001b[0m\u001b[0;34m)\u001b[0m\u001b[0;34m)\u001b[0m\u001b[0;34m:\u001b[0m\u001b[0;34m\u001b[0m\u001b[0;34m\u001b[0m\u001b[0m\n\u001b[1;32m   2681\u001b[0m             \u001b[0;31m# either boolean or fancy integer index\u001b[0m\u001b[0;34m\u001b[0m\u001b[0;34m\u001b[0m\u001b[0;34m\u001b[0m\u001b[0m\n\u001b[0;32m-> 2682\u001b[0;31m             \u001b[0;32mreturn\u001b[0m \u001b[0mself\u001b[0m\u001b[0;34m.\u001b[0m\u001b[0m_getitem_array\u001b[0m\u001b[0;34m(\u001b[0m\u001b[0mkey\u001b[0m\u001b[0;34m)\u001b[0m\u001b[0;34m\u001b[0m\u001b[0;34m\u001b[0m\u001b[0m\n\u001b[0m\u001b[1;32m   2683\u001b[0m         \u001b[0;32melif\u001b[0m \u001b[0misinstance\u001b[0m\u001b[0;34m(\u001b[0m\u001b[0mkey\u001b[0m\u001b[0;34m,\u001b[0m \u001b[0mDataFrame\u001b[0m\u001b[0;34m)\u001b[0m\u001b[0;34m:\u001b[0m\u001b[0;34m\u001b[0m\u001b[0;34m\u001b[0m\u001b[0m\n\u001b[1;32m   2684\u001b[0m             \u001b[0;32mreturn\u001b[0m \u001b[0mself\u001b[0m\u001b[0;34m.\u001b[0m\u001b[0m_getitem_frame\u001b[0m\u001b[0;34m(\u001b[0m\u001b[0mkey\u001b[0m\u001b[0;34m)\u001b[0m\u001b[0;34m\u001b[0m\u001b[0;34m\u001b[0m\u001b[0m\n",
      "\u001b[0;32m~/anaconda3/lib/python3.7/site-packages/pandas/core/frame.py\u001b[0m in \u001b[0;36m_getitem_array\u001b[0;34m(self, key)\u001b[0m\n\u001b[1;32m   2707\u001b[0m     \u001b[0;32mdef\u001b[0m \u001b[0m_getitem_array\u001b[0m\u001b[0;34m(\u001b[0m\u001b[0mself\u001b[0m\u001b[0;34m,\u001b[0m \u001b[0mkey\u001b[0m\u001b[0;34m)\u001b[0m\u001b[0;34m:\u001b[0m\u001b[0;34m\u001b[0m\u001b[0;34m\u001b[0m\u001b[0m\n\u001b[1;32m   2708\u001b[0m         \u001b[0;31m# also raises Exception if object array with NA values\u001b[0m\u001b[0;34m\u001b[0m\u001b[0;34m\u001b[0m\u001b[0;34m\u001b[0m\u001b[0m\n\u001b[0;32m-> 2709\u001b[0;31m         \u001b[0;32mif\u001b[0m \u001b[0mcom\u001b[0m\u001b[0;34m.\u001b[0m\u001b[0mis_bool_indexer\u001b[0m\u001b[0;34m(\u001b[0m\u001b[0mkey\u001b[0m\u001b[0;34m)\u001b[0m\u001b[0;34m:\u001b[0m\u001b[0;34m\u001b[0m\u001b[0;34m\u001b[0m\u001b[0m\n\u001b[0m\u001b[1;32m   2710\u001b[0m             \u001b[0;31m# warning here just in case -- previously __setitem__ was\u001b[0m\u001b[0;34m\u001b[0m\u001b[0;34m\u001b[0m\u001b[0;34m\u001b[0m\u001b[0m\n\u001b[1;32m   2711\u001b[0m             \u001b[0;31m# reindexing but __getitem__ was not; it seems more reasonable to\u001b[0m\u001b[0;34m\u001b[0m\u001b[0;34m\u001b[0m\u001b[0;34m\u001b[0m\u001b[0m\n",
      "\u001b[0;32m~/anaconda3/lib/python3.7/site-packages/pandas/core/common.py\u001b[0m in \u001b[0;36mis_bool_indexer\u001b[0;34m(key)\u001b[0m\n\u001b[1;32m    113\u001b[0m     \u001b[0;32melif\u001b[0m \u001b[0misinstance\u001b[0m\u001b[0;34m(\u001b[0m\u001b[0mkey\u001b[0m\u001b[0;34m,\u001b[0m \u001b[0mlist\u001b[0m\u001b[0;34m)\u001b[0m\u001b[0;34m:\u001b[0m\u001b[0;34m\u001b[0m\u001b[0;34m\u001b[0m\u001b[0m\n\u001b[1;32m    114\u001b[0m         \u001b[0;32mtry\u001b[0m\u001b[0;34m:\u001b[0m\u001b[0;34m\u001b[0m\u001b[0;34m\u001b[0m\u001b[0m\n\u001b[0;32m--> 115\u001b[0;31m             \u001b[0marr\u001b[0m \u001b[0;34m=\u001b[0m \u001b[0mnp\u001b[0m\u001b[0;34m.\u001b[0m\u001b[0masarray\u001b[0m\u001b[0;34m(\u001b[0m\u001b[0mkey\u001b[0m\u001b[0;34m)\u001b[0m\u001b[0;34m\u001b[0m\u001b[0;34m\u001b[0m\u001b[0m\n\u001b[0m\u001b[1;32m    116\u001b[0m             \u001b[0;32mreturn\u001b[0m \u001b[0marr\u001b[0m\u001b[0;34m.\u001b[0m\u001b[0mdtype\u001b[0m \u001b[0;34m==\u001b[0m \u001b[0mnp\u001b[0m\u001b[0;34m.\u001b[0m\u001b[0mbool_\u001b[0m \u001b[0;32mand\u001b[0m \u001b[0mlen\u001b[0m\u001b[0;34m(\u001b[0m\u001b[0marr\u001b[0m\u001b[0;34m)\u001b[0m \u001b[0;34m==\u001b[0m \u001b[0mlen\u001b[0m\u001b[0;34m(\u001b[0m\u001b[0mkey\u001b[0m\u001b[0;34m)\u001b[0m\u001b[0;34m\u001b[0m\u001b[0;34m\u001b[0m\u001b[0m\n\u001b[1;32m    117\u001b[0m         \u001b[0;32mexcept\u001b[0m \u001b[0mTypeError\u001b[0m\u001b[0;34m:\u001b[0m  \u001b[0;31m# pragma: no cover\u001b[0m\u001b[0;34m\u001b[0m\u001b[0;34m\u001b[0m\u001b[0m\n",
      "\u001b[0;32m~/anaconda3/lib/python3.7/site-packages/numpy/core/numeric.py\u001b[0m in \u001b[0;36masarray\u001b[0;34m(a, dtype, order)\u001b[0m\n\u001b[1;32m    499\u001b[0m \u001b[0;34m\u001b[0m\u001b[0m\n\u001b[1;32m    500\u001b[0m     \"\"\"\n\u001b[0;32m--> 501\u001b[0;31m     \u001b[0;32mreturn\u001b[0m \u001b[0marray\u001b[0m\u001b[0;34m(\u001b[0m\u001b[0ma\u001b[0m\u001b[0;34m,\u001b[0m \u001b[0mdtype\u001b[0m\u001b[0;34m,\u001b[0m \u001b[0mcopy\u001b[0m\u001b[0;34m=\u001b[0m\u001b[0;32mFalse\u001b[0m\u001b[0;34m,\u001b[0m \u001b[0morder\u001b[0m\u001b[0;34m=\u001b[0m\u001b[0morder\u001b[0m\u001b[0;34m)\u001b[0m\u001b[0;34m\u001b[0m\u001b[0;34m\u001b[0m\u001b[0m\n\u001b[0m\u001b[1;32m    502\u001b[0m \u001b[0;34m\u001b[0m\u001b[0m\n\u001b[1;32m    503\u001b[0m \u001b[0;34m\u001b[0m\u001b[0m\n",
      "\u001b[0;31mValueError\u001b[0m: cannot copy sequence with size 13349 to array axis with dimension 214"
     ]
    }
   ],
   "source": [
    "\n",
    "y = pd.Series(invoices_industry_location_dummies.repeat_c)\n",
    "\n",
    "X = (invoices_industry_location_dummies [[]] )\n",
    "\n",
    "X_train, X_test, y_train, y_test = train_test_split(X, y, \n",
    "                                                    test_size=.33,\n",
    "                                                    random_state=2)\n",
    "\n"
   ]
  },
  {
   "cell_type": "code",
   "execution_count": null,
   "metadata": {},
   "outputs": [],
   "source": [
    "# Parameter Search                                     \n",
    "model = DecisionTreeClassifier(max_depth=5)\n",
    "\n",
    "model.fit(X_train,y_train)\n",
    "print(model.score(X_test, y_test))"
   ]
  },
  {
   "cell_type": "code",
   "execution_count": null,
   "metadata": {},
   "outputs": [],
   "source": [
    "# Parameter Search                                     \n",
    "model = DecisionTreeClassifier()\n",
    "depth_parm = np.arange(1, 12, 1)\n",
    "num_samples_parm = np.arange(5,95,10)\n",
    "parameters = {'max_depth' : depth_parm,\n",
    "             'min_samples_leaf' : num_samples_parm}\n",
    "clf = GridSearchCV(model, parameters, cv=10, n_jobs=-1)\n",
    "clf.fit(X_train,y_train)\n",
    "print(clf.score(X_test, y_test))"
   ]
  },
  {
   "cell_type": "code",
   "execution_count": null,
   "metadata": {},
   "outputs": [],
   "source": [
    "y_train.mean()"
   ]
  },
  {
   "cell_type": "code",
   "execution_count": null,
   "metadata": {},
   "outputs": [],
   "source": [
    "clf.best_estimator_"
   ]
  },
  {
   "cell_type": "code",
   "execution_count": null,
   "metadata": {},
   "outputs": [],
   "source": [
    "clf.best_params_"
   ]
  },
  {
   "cell_type": "code",
   "execution_count": null,
   "metadata": {},
   "outputs": [],
   "source": [
    "# Train and fit model                                                   \n",
    "rf = RandomForestClassifier(n_estimators=1000,\n",
    "                           max_features='auto',\n",
    "                           random_state=0, n_jobs=-1)\n",
    "rf.fit(X_train, y_train)\n",
    "                                     \n",
    "# Test Prediction\n",
    "pred = rf.predict(X_test)\n",
    "print(rf.score(X_test, y_test))"
   ]
  },
  {
   "cell_type": "code",
   "execution_count": null,
   "metadata": {},
   "outputs": [],
   "source": []
  },
  {
   "cell_type": "code",
   "execution_count": null,
   "metadata": {},
   "outputs": [],
   "source": []
  },
  {
   "cell_type": "code",
   "execution_count": null,
   "metadata": {},
   "outputs": [],
   "source": []
  },
  {
   "cell_type": "code",
   "execution_count": null,
   "metadata": {},
   "outputs": [],
   "source": []
  }
 ],
 "metadata": {
  "kernelspec": {
   "display_name": "Python 3",
   "language": "python",
   "name": "python3"
  },
  "language_info": {
   "codemirror_mode": {
    "name": "ipython",
    "version": 3
   },
   "file_extension": ".py",
   "mimetype": "text/x-python",
   "name": "python",
   "nbconvert_exporter": "python",
   "pygments_lexer": "ipython3",
   "version": "3.7.1"
  }
 },
 "nbformat": 4,
 "nbformat_minor": 2
}
