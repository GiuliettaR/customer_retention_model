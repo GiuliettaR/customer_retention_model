{
 "cells": [
  {
   "cell_type": "code",
   "execution_count": 1,
   "metadata": {},
   "outputs": [],
   "source": [
    "import pandas as pd\n",
    "import numpy as np"
   ]
  },
  {
   "cell_type": "code",
   "execution_count": 2,
   "metadata": {},
   "outputs": [],
   "source": [
    "from pandas.tools.plotting import scatter_matrix\n",
    "\n",
    "%matplotlib inline\n",
    "import matplotlib.pyplot as plt\n",
    "plt.style.use('ggplot')\n",
    "from sklearn.linear_model import LogisticRegression#, LinearRegression"
   ]
  },
  {
   "cell_type": "code",
   "execution_count": 3,
   "metadata": {},
   "outputs": [],
   "source": [
    "accounts = pd.read_csv('data/MFG-accounts.csv')"
   ]
  },
  {
   "cell_type": "code",
   "execution_count": 4,
   "metadata": {},
   "outputs": [],
   "source": [
    "customers = pd.read_csv('data/MFG-customers.csv')"
   ]
  },
  {
   "cell_type": "code",
   "execution_count": 5,
   "metadata": {},
   "outputs": [],
   "source": [
    "invoices = pd.read_csv('data/MFG-invoices.csv')"
   ]
  },
  {
   "cell_type": "code",
   "execution_count": 6,
   "metadata": {},
   "outputs": [],
   "source": [
    "industry = pd.read_csv('data/MFG-industry.csv')"
   ]
  },
  {
   "cell_type": "code",
   "execution_count": 7,
   "metadata": {},
   "outputs": [],
   "source": [
    "press_release = pd.read_csv('data/Press_Release.csv')"
   ]
  },
  {
   "cell_type": "code",
   "execution_count": 8,
   "metadata": {},
   "outputs": [],
   "source": [
    "zip_codes = pd.read_csv('data/zip_code_database.csv')"
   ]
  },
  {
   "cell_type": "code",
   "execution_count": 9,
   "metadata": {},
   "outputs": [],
   "source": [
    "zip_codes = zip_codes[['zip','state']]"
   ]
  },
  {
   "cell_type": "markdown",
   "metadata": {},
   "source": [
    "### Customers"
   ]
  },
  {
   "cell_type": "code",
   "execution_count": 10,
   "metadata": {},
   "outputs": [],
   "source": [
    "customers['Country'] = customers['Country'].replace(['UNITED STATES', 'United States'], ['USA', 'USA',])\n",
    "customers['Country'] = customers['Country'].fillna('USA')\n",
    "customers['CustID'] = customers['CustomerID']\n",
    "customers['State'] = customers['State'].replace('az', 'AZ')"
   ]
  },
  {
   "cell_type": "code",
   "execution_count": null,
   "metadata": {},
   "outputs": [],
   "source": []
  },
  {
   "cell_type": "code",
   "execution_count": 11,
   "metadata": {},
   "outputs": [
    {
     "data": {
      "text/plain": [
       "array(['85283', '85206', '92675', '85281', '80120', '85019', '94502',\n",
       "       '85260', '85027', '85714', '79998', '85282', '85122', '8873',\n",
       "       '85027-4741', '92618', '85205', '3801', '85044', '90630', '95131',\n",
       "       '85225', '85040', '7310', '85226', '45147', '85710', '76134',\n",
       "       '85743', '92612', '85331', '95010', '30024', '84720', '85705',\n",
       "       '84054', '85043', '85072', '91324', '85308', '87109', '89043', nan,\n",
       "       '85392', '768765', '85287', '85212', '85006', '85210', '85254',\n",
       "       '85255', '85621', '85233', '85048', '85053', '28277', '79912',\n",
       "       '84120', '85013', '86323', '85224', '30677', '85395', '77515',\n",
       "       '92610', '85018', '85204', '80401', '84119', '80108', 'V5M 4P7',\n",
       "       '1863', '80421', '85284', '85032', '7724', '85034', '21076-3105',\n",
       "       '85211', '84321', '86001', '84084', '94063', '95666', '89135',\n",
       "       '84081', '84341', '94089', '85207', '85250', '85083', '98660',\n",
       "       '68516', '84116', '85712', '80907', '76051', '85295', '76177',\n",
       "       '85297', '97058', '85268-5562', '85741', '80132', '90670', '92071',\n",
       "       '22724', '3031', '80127', '30519', '85258', '80123', '40554',\n",
       "       '85215', '84770', '80155', '86306', '95076', '80301', '85929',\n",
       "       '85298', '92711', '941003', '86301', '33760', '3980', '63127',\n",
       "       '92101', '85028', '85201', '85203', '94507', '80134', '75063',\n",
       "       '85009', '84009', '84047', '90033', '85036', '80202', '53209',\n",
       "       '80226', '2090', '2780', '30332', '92022', '60542', '85253',\n",
       "       '70433', '19403', '54636', '85742', '80021', '45373-3016', '85301',\n",
       "       '85139', '92315', '80504', '85020', '85220', '39133', '85249',\n",
       "       '91016', '85285', '79998-1195', '87199', '55422', '85259',\n",
       "       '516229', '85029', '81252', '95448', '85745', '85257', '85701',\n",
       "       '97123', '85050', '85023-3200', '80239', '1930', '85248', '84111',\n",
       "       '92656', '95054', '80111', '60025', '68508', '84401', '33025',\n",
       "       '85251', '85022', '94577', '44131', '29205', '3053', '47903',\n",
       "       '85323', '98027', '30022', '86326', '80223', '85007', '84065',\n",
       "       '55434', '92126', '87545', '84105', '45040', '87113', '84070',\n",
       "       '55421', '80640', '27615-6515', '84020', '54220', '48108', '19390',\n",
       "       '85756', '8701', '87544', '85042', '85706', '12803', '86351',\n",
       "       '85286', '80305', '15717', '89451', '85086', '88003', '95694',\n",
       "       '53204', '80004', '85008', '55343', '84016', '33004-2200', '85045',\n",
       "       '98332', '85226-5111', '85227', '84404', '44035', '85202', '66701',\n",
       "       '80112', 'N2V 2C5', '89033', '95370', '20110', '79906', '60103',\n",
       "       '77375', '80229', '75002', '87114', '85704', '92154', '85023',\n",
       "       '84095', '28273', '85015', '87102', '85242', '85236', '84601',\n",
       "       '85718', '80921', '92630', '84108', '95682', '85755', '62705',\n",
       "       '2703', '60515', '84098', '80222', '92186-5376', '85268',\n",
       "       '85224-1866', '38558', '30342', '84042', '90638', '85213', '78746',\n",
       "       '49501', '85085', '85296', '85716', '85396', '92708', '75074',\n",
       "       '64063', '10580', '86303', '14624', '85305', '53545', '80215',\n",
       "       '45231', '60654', '33157', '33477', '95003', '87123', '66062',\n",
       "       '34787', '77478', '92121', '84101', '85382', 'B2Y 4N2',\n",
       "       '27615-6520', '80538', '32256', '80208', '8544', '80045', '84112',\n",
       "       '80840', '63640', '85345', '46628', '46250', '92009', '84604',\n",
       "       '94002', '85024', '86336', '01845-1025', '84606', '84088', '68803',\n",
       "       '86003', '85367', '95134', '85003', '78738'], dtype=object)"
      ]
     },
     "execution_count": 11,
     "metadata": {},
     "output_type": "execute_result"
    }
   ],
   "source": [
    "customers['Zip'].unique()"
   ]
  },
  {
   "cell_type": "code",
   "execution_count": 12,
   "metadata": {},
   "outputs": [],
   "source": [
    "#customers['Zip'] = customers['Zip'].str.replace('-','')#.astype(int)\n",
    "#customers['Zip'].unique()"
   ]
  },
  {
   "cell_type": "code",
   "execution_count": null,
   "metadata": {},
   "outputs": [],
   "source": []
  },
  {
   "cell_type": "code",
   "execution_count": 13,
   "metadata": {},
   "outputs": [],
   "source": [
    "customer_region = customers[['CustID', 'State','Zip','Country']]"
   ]
  },
  {
   "cell_type": "code",
   "execution_count": 14,
   "metadata": {},
   "outputs": [
    {
     "name": "stdout",
     "output_type": "stream",
     "text": [
      "<class 'pandas.core.frame.DataFrame'>\n",
      "RangeIndex: 623 entries, 0 to 622\n",
      "Data columns (total 4 columns):\n",
      "CustID     623 non-null int64\n",
      "State      612 non-null object\n",
      "Zip        615 non-null object\n",
      "Country    623 non-null object\n",
      "dtypes: int64(1), object(3)\n",
      "memory usage: 19.5+ KB\n"
     ]
    }
   ],
   "source": [
    "customer_region.info()"
   ]
  },
  {
   "cell_type": "markdown",
   "metadata": {},
   "source": [
    "### Invoices"
   ]
  },
  {
   "cell_type": "code",
   "execution_count": 15,
   "metadata": {},
   "outputs": [],
   "source": [
    "invoices['datetime'] = pd.to_datetime(invoices['Date'])"
   ]
  },
  {
   "cell_type": "code",
   "execution_count": 16,
   "metadata": {},
   "outputs": [],
   "source": [
    "invoices['account_id'] = invoices['Account_ID'].str.replace('-','').astype(int)"
   ]
  },
  {
   "cell_type": "code",
   "execution_count": 17,
   "metadata": {},
   "outputs": [],
   "source": [
    "invoices['itemid'] = invoices['Item_ID'].str.replace('-','')"
   ]
  },
  {
   "cell_type": "code",
   "execution_count": 18,
   "metadata": {},
   "outputs": [],
   "source": [
    "invoices['qty'] = invoices['Qty'].str.replace(',','').astype(float)\n",
    "invoices['qty'] = invoices['qty'].fillna(0)"
   ]
  },
  {
   "cell_type": "code",
   "execution_count": 19,
   "metadata": {},
   "outputs": [],
   "source": [
    "invoices ['amount'] = (invoices['Amount'].str.replace(',', '').astype(float)).abs()"
   ]
  },
  {
   "cell_type": "code",
   "execution_count": 20,
   "metadata": {},
   "outputs": [],
   "source": [
    "invoices ['unit_price'] = invoices['Unit_Price'].str.replace(',','').astype(float)\n",
    "invoices ['unit_price'] = invoices['unit_price'].fillna(0)"
   ]
  },
  {
   "cell_type": "code",
   "execution_count": 21,
   "metadata": {},
   "outputs": [],
   "source": [
    "invoices['dayofweek'] = invoices['datetime'].dt.dayofweek"
   ]
  },
  {
   "cell_type": "code",
   "execution_count": 22,
   "metadata": {},
   "outputs": [],
   "source": [
    "repeat=[]\n",
    "for invoice in invoices.iterrows():\n",
    "    repeat.append(((invoice[1]['CustID'] == invoices['CustID']) &\n",
    "    (invoice[1]['datetime'] < invoices['datetime']) &\n",
    "    (invoice[1]['datetime']  + pd.Timedelta(365, 'd') > invoices['datetime'])).sum()> 0)  "
   ]
  },
  {
   "cell_type": "code",
   "execution_count": 23,
   "metadata": {},
   "outputs": [],
   "source": [
    "invoices['repeat'] = repeat"
   ]
  },
  {
   "cell_type": "code",
   "execution_count": 24,
   "metadata": {},
   "outputs": [],
   "source": [
    "def year(col):\n",
    "    value = int(str(col)[0:4])\n",
    "    return value\n",
    "    \n",
    "def month(col):\n",
    "    value = int(str(col)[8:11])\n",
    "    return value"
   ]
  },
  {
   "cell_type": "code",
   "execution_count": 25,
   "metadata": {},
   "outputs": [],
   "source": [
    "invoices['year'] = invoices['datetime'].apply(year)\n",
    "invoices['month'] = invoices['datetime'].apply(month)"
   ]
  },
  {
   "cell_type": "code",
   "execution_count": 26,
   "metadata": {},
   "outputs": [],
   "source": [
    "quarter=[]\n",
    "for quarter in invoices['month']:\n",
    "    if quarter>= 1 or quarter<=3:\n",
    "        quarter=1\n",
    "    elif quarter >= 4 or quarter <= 6:\n",
    "        quarter=2\n",
    "    elif quarter >= 7 or quarter<=9:\n",
    "        quarter=3\n",
    "    else:\n",
    "        quarter=4"
   ]
  },
  {
   "cell_type": "code",
   "execution_count": 27,
   "metadata": {},
   "outputs": [],
   "source": [
    "invoices['quarter']= quarter"
   ]
  },
  {
   "cell_type": "code",
   "execution_count": 28,
   "metadata": {},
   "outputs": [],
   "source": [
    "invoices['repeat_c']= invoices['repeat'].replace('True','1').astype(int)\n",
    "invoices['repeat_c']= invoices['repeat'].replace('False','0').astype(int)"
   ]
  },
  {
   "cell_type": "code",
   "execution_count": null,
   "metadata": {},
   "outputs": [],
   "source": []
  },
  {
   "cell_type": "markdown",
   "metadata": {},
   "source": [
    "### press_release"
   ]
  },
  {
   "cell_type": "code",
   "execution_count": 29,
   "metadata": {},
   "outputs": [],
   "source": [
    "press_release['release_date'] = pd.to_datetime(press_release['Release Date'])"
   ]
  },
  {
   "cell_type": "code",
   "execution_count": 30,
   "metadata": {},
   "outputs": [],
   "source": [
    "press_release ['premium'] = press_release['Premium'].str.replace('-', 'free')\n",
    "press_release['premium'] = press_release['premium'].fillna('premium')"
   ]
  },
  {
   "cell_type": "code",
   "execution_count": 31,
   "metadata": {},
   "outputs": [],
   "source": [
    "press_release['headline_len'] = press_release['Headline'].str.len()"
   ]
  },
  {
   "cell_type": "code",
   "execution_count": null,
   "metadata": {},
   "outputs": [],
   "source": []
  },
  {
   "cell_type": "code",
   "execution_count": null,
   "metadata": {},
   "outputs": [],
   "source": []
  },
  {
   "cell_type": "markdown",
   "metadata": {},
   "source": [
    "### merge invoices industry region"
   ]
  },
  {
   "cell_type": "code",
   "execution_count": 32,
   "metadata": {},
   "outputs": [],
   "source": [
    "invoices_industry = pd.merge(invoices, industry, how='left', on=['CustID'])"
   ]
  },
  {
   "cell_type": "code",
   "execution_count": 33,
   "metadata": {},
   "outputs": [],
   "source": [
    "invoices_industry ['industry1'] = invoices_industry['Industry']\n",
    "invoices_industry ['industry1'] = (invoices_industry['industry1'].replace(['Individual', 'Consumer Product', 'Manufacturing Equipment',\n",
    "       'Design', 'Antenna', 'Automotive', 'Education', 'Manufacturing',\n",
    "       'Medical', 'Electronics', 'HVAC', 'Engineering', 'Machinary',\n",
    "       'Unknown', 'Telecomunications', 'Firearms', 'Swimming Pools',\n",
    "       'Defence', 'Aerospace', 'Government', 'Injection Molding',\n",
    "       'Distributor', 'Sensors', 'Testing  ', 'Lighting',\n",
    "       'Water Treatment', 'Mining', 'Internal', 'Components',\n",
    "       'Machine Shop', 'Power', 'Alternative Energy', 'Other',\n",
    "       'Construction', 'Sporting Goods', '3D Printing Service Provider',\n",
    "       'Semiconductor Equipment', 'Building Products', 'Architecture',\n",
    "       'Machine shop', 'Clothing', 'Additive Manufacturing',\n",
    "       'Agriculture Equip', 'Oil & Gas', 'Chemicals', 'Food &Beverage',\n",
    "       'Turbomachinary', 'Solar', 'Materials', 'Utility', 'Robotics',\n",
    "       'Furniture', 'Packaging', 'Batteries', 'Printing',\n",
    "       'Transportation', 'IT'], [1,2,3,4,5,6,7,8,9,10,11,12,13,14,15,16,17,18,19,20,21,22,23,24,25,26,27,28,29,30,\n",
    "                                31,32,33,34,35,36,37,38,39,40,41,42,43,44,45,46,47,48,49,50,51,52,53,54,55,56,57]))\n",
    "\n",
    "#invoices_industry ['industry1'] "
   ]
  },
  {
   "cell_type": "code",
   "execution_count": 34,
   "metadata": {},
   "outputs": [],
   "source": [
    "invoices_industry = pd.merge(invoices_industry, customer_region, how='left', on=['CustID'])"
   ]
  },
  {
   "cell_type": "code",
   "execution_count": 53,
   "metadata": {},
   "outputs": [
    {
     "data": {
      "text/plain": [
       "Index(['Date', 'Qty', 'Unit_Price', 'Item_ID', 'Account_ID', 'Amount',\n",
       "       'CustID', 'datetime', 'account_id', 'itemid', 'qty', 'amount',\n",
       "       'unit_price', 'dayofweek', 'repeat', 'year', 'month', 'quarter',\n",
       "       'repeat_c', 'Industry', 'industry1', 'State', 'Zip', 'Country',\n",
       "       'dummy_state', 'dummy_country'],\n",
       "      dtype='object')"
      ]
     },
     "execution_count": 53,
     "metadata": {},
     "output_type": "execute_result"
    }
   ],
   "source": [
    "invoices_industry.columns"
   ]
  },
  {
   "cell_type": "code",
   "execution_count": 56,
   "metadata": {},
   "outputs": [
    {
     "data": {
      "text/plain": [
       "array(['RP-SLA-1', 'SHP-MFG', 'RP-INJMOLD-1', 'RP-FDM-1', 'RP-SLS-1', nan,\n",
       "       'RP-OBJ-1', 'RP-RTV-1', 'RP-3DSCAN-1', 'RP-MFG-1', 'RP-MTL0010',\n",
       "       'RP-MTL0011', 'RP-MTL0015', 'RP-PLS0033', 'RP-PLS0034',\n",
       "       'RP-PLS0035', 'RP-PLS0036', 'RP-PLS0037', 'RP-PLS0038',\n",
       "       'RP-PLS0039', 'RP-PLS0040', 'RP-PLS0041', 'RP-PLS0042',\n",
       "       'RP-PLS0043', 'RP-PLS0028', 'RP-PLS0029', 'RP-PLS0030',\n",
       "       'RP-FM002868', 'RP-FM002869', 'RP-MTL0014', 'RP-FM002690',\n",
       "       'RP-1513836', 'RP-1859701', 'RP-PLS0025', 'RP-PLS0026',\n",
       "       'RP-PLS0027', 'RP-19112-51', 'RP-19112-23', 'RP-19112-24',\n",
       "       'RP-19112-52', 'RP-19112-57', 'RP-19112-61', 'RP-CS007200 A/B',\n",
       "       'RP-CS007650', 'RP-19112-25', 'RP-19112-26', 'RP-19112-59',\n",
       "       'RP-19112-62', 'RP-AMP-1', 'RP-C10047', 'RP-C10048', 'RP-C10049',\n",
       "       'RP-301550-01', 'RP-301550-02', 'RP-300727A', 'RP-300784A',\n",
       "       'RP-1-222-0502', 'RP-1-222-0503', 'RP-METAL-1', 'RP-2718001',\n",
       "       'RP-DLS-1', 'RP-CONSULT-1', 'RP-1001717', 'RP-1001718'],\n",
       "      dtype=object)"
      ]
     },
     "execution_count": 56,
     "metadata": {},
     "output_type": "execute_result"
    }
   ],
   "source": [
    "invoices_industry['Item_ID'].unique()"
   ]
  },
  {
   "cell_type": "code",
   "execution_count": 59,
   "metadata": {},
   "outputs": [],
   "source": [
    "invoices_industry ['dummy_itemid'] = (invoices_industry['Item_ID'].replace(['RP-SLA-1', 'SHP-MFG',\n",
    "                                                        'RP-INJMOLD-1', 'RP-FDM-1', 'RP-SLS-1',\n",
    "       'RP-OBJ-1', 'RP-RTV-1', 'RP-3DSCAN-1', 'RP-MFG-1', 'RP-MTL0010',\n",
    "       'RP-MTL0011', 'RP-MTL0015', 'RP-PLS0033', 'RP-PLS0034',\n",
    "       'RP-PLS0035', 'RP-PLS0036', 'RP-PLS0037', 'RP-PLS0038',\n",
    "       'RP-PLS0039', 'RP-PLS0040', 'RP-PLS0041', 'RP-PLS0042',\n",
    "       'RP-PLS0043', 'RP-PLS0028', 'RP-PLS0029', 'RP-PLS0030',\n",
    "       'RP-FM002868', 'RP-FM002869', 'RP-MTL0014', 'RP-FM002690',\n",
    "       'RP-1513836', 'RP-1859701', 'RP-PLS0025', 'RP-PLS0026',\n",
    "       'RP-PLS0027', 'RP-19112-51', 'RP-19112-23', 'RP-19112-24',\n",
    "       'RP-19112-52', 'RP-19112-57', 'RP-19112-61', 'RP-CS007200 A/B',\n",
    "       'RP-CS007650', 'RP-19112-25', 'RP-19112-26', 'RP-19112-59',\n",
    "       'RP-19112-62', 'RP-AMP-1', 'RP-C10047', 'RP-C10048', 'RP-C10049',\n",
    "       'RP-301550-01', 'RP-301550-02', 'RP-300727A', 'RP-300784A',\n",
    "       'RP-1-222-0502', 'RP-1-222-0503', 'RP-METAL-1', 'RP-2718001',\n",
    "       'RP-DLS-1', 'RP-CONSULT-1', 'RP-1001717', 'RP-1001718'],\n",
    "        [1,2,3,4,5,6,7,8,9,10,11,12,13,14,15,16,17,18,19,20,21,22,23,24,25,26,27,28,29,30,\n",
    "        31,32,33,34,35,36,37,38,39,40,41,42,43,44,45,46,47,48,49,50,51,52,53,54,55,56,57,\n",
    "        58,59,60,61,62,63]))\n"
   ]
  },
  {
   "cell_type": "code",
   "execution_count": 61,
   "metadata": {},
   "outputs": [],
   "source": [
    "invoices_industry ['dummy_itemid'] = invoices_industry['dummy_itemid'].fillna(90)"
   ]
  },
  {
   "cell_type": "code",
   "execution_count": 37,
   "metadata": {},
   "outputs": [],
   "source": [
    "invoices_industry ['dummy_state'] = (invoices_industry['State'].replace(['CO', 'AZ',\n",
    "        'UT', 'CA', 'MA', 'OH', 'NJ', 'PA', 'FL', 'IL',\n",
    "       'TN', 'NE', 'MD', 'IN', 'WA', 'NC', 'GA', 'NM', 'MI', 'WI', 'NV',\n",
    "       'NH', 'Te', 'TX', 'KS', 'MN', 'SC', 'MO', 'NS', 'OR', 'VA', 'LA',\n",
    "       'ON', 'NY', 'BC'],[1,2,3,4,5,6,7,8,9,10,11,12,13,14,15,16,17,18,19,20,21,22,23,24,25,26,27,28,29,30,\n",
    "                                31,32,33,34,35]))"
   ]
  },
  {
   "cell_type": "code",
   "execution_count": 62,
   "metadata": {},
   "outputs": [],
   "source": [
    "invoices_industry ['dummy_state'] = invoices_industry['dummy_state'].fillna(90)"
   ]
  },
  {
   "cell_type": "code",
   "execution_count": 63,
   "metadata": {},
   "outputs": [],
   "source": [
    "invoices_industry['dummy_country']= (invoices_industry['Country'].replace(['USA', 'Germany', 'Costa Rica', 'China', 'Canada', 'Philippines'],\n",
    "                                                                          [1,2,3,4,5,6]))"
   ]
  },
  {
   "cell_type": "markdown",
   "metadata": {},
   "source": [
    "### Logistic regretios\n"
   ]
  },
  {
   "cell_type": "code",
   "execution_count": 65,
   "metadata": {},
   "outputs": [],
   "source": [
    "y = invoices_industry['repeat_c'] == True\n",
    "X = (invoices_industry[['year', 'month', 'unit_price', 'qty', 'account_id', 'amount', 'repeat_c','industry1',\n",
    "                        'dummy_country','dummy_state','dummy_itemid']])"
   ]
  },
  {
   "cell_type": "code",
   "execution_count": 66,
   "metadata": {},
   "outputs": [],
   "source": [
    "model1 = LogisticRegression()"
   ]
  },
  {
   "cell_type": "code",
   "execution_count": 67,
   "metadata": {},
   "outputs": [
    {
     "name": "stderr",
     "output_type": "stream",
     "text": [
      "/Users/lulu/anaconda3/lib/python3.7/site-packages/sklearn/linear_model/logistic.py:433: FutureWarning: Default solver will be changed to 'lbfgs' in 0.22. Specify a solver to silence this warning.\n",
      "  FutureWarning)\n"
     ]
    },
    {
     "data": {
      "text/plain": [
       "LogisticRegression(C=1.0, class_weight=None, dual=False, fit_intercept=True,\n",
       "          intercept_scaling=1, max_iter=100, multi_class='warn',\n",
       "          n_jobs=None, penalty='l2', random_state=None, solver='warn',\n",
       "          tol=0.0001, verbose=0, warm_start=False)"
      ]
     },
     "execution_count": 67,
     "metadata": {},
     "output_type": "execute_result"
    }
   ],
   "source": [
    "model1.fit(X, y)"
   ]
  },
  {
   "cell_type": "code",
   "execution_count": 68,
   "metadata": {},
   "outputs": [
    {
     "data": {
      "text/plain": [
       "array([[9.50841381e-10, 1.11742988e-11, 2.08516737e-10, 3.59662459e-11,\n",
       "        9.45049461e-07, 2.50299679e-10, 1.19865378e-12, 4.94438915e-12,\n",
       "        4.59210498e-13, 3.72408450e-12, 1.03943254e-12]])"
      ]
     },
     "execution_count": 68,
     "metadata": {},
     "output_type": "execute_result"
    }
   ],
   "source": [
    "model1.coef_"
   ]
  },
  {
   "cell_type": "code",
   "execution_count": 69,
   "metadata": {},
   "outputs": [],
   "source": [
    "#model.predict_proba([[4, 10]])"
   ]
  },
  {
   "cell_type": "code",
   "execution_count": null,
   "metadata": {},
   "outputs": [],
   "source": []
  },
  {
   "cell_type": "code",
   "execution_count": null,
   "metadata": {},
   "outputs": [],
   "source": []
  },
  {
   "cell_type": "markdown",
   "metadata": {},
   "source": [
    "### Random Fores"
   ]
  },
  {
   "cell_type": "code",
   "execution_count": 70,
   "metadata": {},
   "outputs": [],
   "source": [
    "from sklearn.model_selection import train_test_split"
   ]
  },
  {
   "cell_type": "code",
   "execution_count": 71,
   "metadata": {},
   "outputs": [],
   "source": [
    "from sklearn.tree import DecisionTreeRegressor, DecisionTreeClassifier\n",
    "from sklearn.ensemble import RandomForestRegressor, RandomForestClassifier\n",
    "\n",
    "from sklearn.model_selection import cross_val_score, train_test_split, GridSearchCV"
   ]
  },
  {
   "cell_type": "code",
   "execution_count": 72,
   "metadata": {},
   "outputs": [],
   "source": [
    "\n",
    "y = pd.Series(invoices_industry.repeat_c)\n",
    "\n",
    "X = (invoices_industry [['year', 'month', 'unit_price', 'qty', 'account_id', 'amount', 'industry1',\n",
    "                         'dummy_country','dummy_state','dummy_itemid']] )\n",
    "\n",
    "X_train, X_test, y_train, y_test = train_test_split(X, y, \n",
    "                                                    test_size=.33,\n",
    "                                                    random_state=2)\n",
    "\n"
   ]
  },
  {
   "cell_type": "code",
   "execution_count": 73,
   "metadata": {},
   "outputs": [
    {
     "name": "stdout",
     "output_type": "stream",
     "text": [
      "0.8710848842487517\n"
     ]
    }
   ],
   "source": [
    "# Parameter Search                                     \n",
    "model = DecisionTreeClassifier(max_depth=5)\n",
    "\n",
    "model.fit(X_train,y_train)\n",
    "print(model.score(X_test, y_test))"
   ]
  },
  {
   "cell_type": "code",
   "execution_count": 74,
   "metadata": {},
   "outputs": [
    {
     "name": "stdout",
     "output_type": "stream",
     "text": [
      "0.8810712664548344\n"
     ]
    }
   ],
   "source": [
    "# Parameter Search                                     \n",
    "model = DecisionTreeClassifier()\n",
    "depth_parm = np.arange(1, 12, 1)\n",
    "num_samples_parm = np.arange(5,95,10)\n",
    "parameters = {'max_depth' : depth_parm,\n",
    "             'min_samples_leaf' : num_samples_parm}\n",
    "clf = GridSearchCV(model, parameters, cv=10, n_jobs=-1)\n",
    "clf.fit(X_train,y_train)\n",
    "print(clf.score(X_test, y_test))"
   ]
  },
  {
   "cell_type": "code",
   "execution_count": 75,
   "metadata": {},
   "outputs": [
    {
     "data": {
      "text/plain": [
       "0.8726378172872638"
      ]
     },
     "execution_count": 75,
     "metadata": {},
     "output_type": "execute_result"
    }
   ],
   "source": [
    "y_train.mean()"
   ]
  },
  {
   "cell_type": "code",
   "execution_count": 76,
   "metadata": {},
   "outputs": [
    {
     "data": {
      "text/plain": [
       "DecisionTreeClassifier(class_weight=None, criterion='gini', max_depth=10,\n",
       "            max_features=None, max_leaf_nodes=None,\n",
       "            min_impurity_decrease=0.0, min_impurity_split=None,\n",
       "            min_samples_leaf=5, min_samples_split=2,\n",
       "            min_weight_fraction_leaf=0.0, presort=False, random_state=None,\n",
       "            splitter='best')"
      ]
     },
     "execution_count": 76,
     "metadata": {},
     "output_type": "execute_result"
    }
   ],
   "source": [
    "clf.best_estimator_"
   ]
  },
  {
   "cell_type": "code",
   "execution_count": 77,
   "metadata": {},
   "outputs": [
    {
     "data": {
      "text/plain": [
       "{'max_depth': 10, 'min_samples_leaf': 5}"
      ]
     },
     "execution_count": 77,
     "metadata": {},
     "output_type": "execute_result"
    }
   ],
   "source": [
    "clf.best_params_"
   ]
  },
  {
   "cell_type": "code",
   "execution_count": 78,
   "metadata": {},
   "outputs": [
    {
     "name": "stdout",
     "output_type": "stream",
     "text": [
      "0.9110304130730822\n"
     ]
    }
   ],
   "source": [
    "# Train and fit model                                                   \n",
    "rf = RandomForestClassifier(n_estimators=1000,\n",
    "                           max_features='auto',\n",
    "                           random_state=0, n_jobs=-1)\n",
    "rf.fit(X_train, y_train)\n",
    "                                     \n",
    "# Test Prediction\n",
    "pred = rf.predict(X_test)\n",
    "print(rf.score(X_test, y_test))"
   ]
  },
  {
   "cell_type": "code",
   "execution_count": null,
   "metadata": {},
   "outputs": [],
   "source": []
  },
  {
   "cell_type": "code",
   "execution_count": null,
   "metadata": {},
   "outputs": [],
   "source": []
  },
  {
   "cell_type": "code",
   "execution_count": null,
   "metadata": {},
   "outputs": [],
   "source": []
  },
  {
   "cell_type": "code",
   "execution_count": null,
   "metadata": {},
   "outputs": [],
   "source": []
  }
 ],
 "metadata": {
  "kernelspec": {
   "display_name": "Python 3",
   "language": "python",
   "name": "python3"
  },
  "language_info": {
   "codemirror_mode": {
    "name": "ipython",
    "version": 3
   },
   "file_extension": ".py",
   "mimetype": "text/x-python",
   "name": "python",
   "nbconvert_exporter": "python",
   "pygments_lexer": "ipython3",
   "version": "3.7.1"
  }
 },
 "nbformat": 4,
 "nbformat_minor": 2
}
